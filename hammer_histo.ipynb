{
 "cells": [
  {
   "cell_type": "code",
   "execution_count": 1,
   "metadata": {},
   "outputs": [],
   "source": [
    "import uproot # type: ignore\n",
    "import pandas as pd # type: ignore\n",
    "import numpy as np # type: ignore\n",
    "import awkward as ak # type: ignore\n",
    "import matplotlib # type: ignore\n",
    "from mpl_toolkits.mplot3d import Axes3D # type: ignore\n",
    "import matplotlib.pyplot as plt # type: ignore\n",
    "import os\n",
    "import math\n",
    "import csv\n",
    "import seaborn as sns # type: ignore\n",
    "import sympy as smp # type: ignore\n",
    "import sympy.stats # type: ignore\n",
    "from scipy import stats,signal,ndimage,special,fft # type: ignore\n",
    "from scipy.optimize import curve_fit # type: ignore\n",
    "from scipy.integrate import quad # type: ignore\n",
    "from mpl_toolkits.axes_grid1 import make_axes_locatable # type: ignore"
   ]
  },
  {
   "cell_type": "markdown",
   "metadata": {},
   "source": [
    "Open and read input root file, setup data frame"
   ]
  },
  {
   "cell_type": "code",
   "execution_count": 2,
   "metadata": {},
   "outputs": [
    {
     "name": "stdout",
     "output_type": "stream",
     "text": [
      "name                 | typename                 | interpretation                \n",
      "---------------------+--------------------------+-------------------------------\n",
      "true_energy          | std::vector<double>      | AsJagged(AsDtype('>f8'), he...\n",
      "true_p_x             | std::vector<double>      | AsJagged(AsDtype('>f8'), he...\n",
      "true_p_y             | std::vector<double>      | AsJagged(AsDtype('>f8'), he...\n",
      "true_p_z             | std::vector<double>      | AsJagged(AsDtype('>f8'), he...\n",
      "true_p_mag           | std::vector<double>      | AsJagged(AsDtype('>f8'), he...\n",
      "true_length          | std::vector<double>      | AsJagged(AsDtype('>f8'), he...\n",
      "true_angle           | std::vector<double>      | AsJagged(AsDtype('>f8'), he...\n",
      "true_angle_rot       | std::vector<double>      | AsJagged(AsDtype('>f8'), he...\n",
      "true_angle_incl      | std::vector<double>      | AsJagged(AsDtype('>f8'), he...\n",
      "true_angle_x         | std::vector<double>      | AsJagged(AsDtype('>f8'), he...\n",
      "true_angle_y         | std::vector<double>      | AsJagged(AsDtype('>f8'), he...\n",
      "true_angle_z         | std::vector<double>      | AsJagged(AsDtype('>f8'), he...\n",
      "true_track_start_x   | std::vector<double>      | AsJagged(AsDtype('>f8'), he...\n",
      "true_track_start_y   | std::vector<double>      | AsJagged(AsDtype('>f8'), he...\n",
      "true_track_start_z   | std::vector<double>      | AsJagged(AsDtype('>f8'), he...\n",
      "true_track_end_x     | std::vector<double>      | AsJagged(AsDtype('>f8'), he...\n",
      "true_track_end_y     | std::vector<double>      | AsJagged(AsDtype('>f8'), he...\n",
      "true_track_end_z     | std::vector<double>      | AsJagged(AsDtype('>f8'), he...\n",
      "true_pdg             | std::vector<int32_t>     | AsJagged(AsDtype('>i4'), he...\n",
      "true_nproton         | std::vector<int32_t>     | AsJagged(AsDtype('>i4'), he...\n",
      "spill_index          | std::vector<int32_t>     | AsJagged(AsDtype('>i4'), he...\n",
      "file_index           | std::vector<int32_t>     | AsJagged(AsDtype('>i4'), he...\n",
      "interaction_id       | std::vector<int32_t>     | AsJagged(AsDtype('>i4'), he...\n",
      "event                | std::vector<int32_t>     | AsJagged(AsDtype('>i4'), he...\n",
      "run                  | std::vector<int32_t>     | AsJagged(AsDtype('>i4'), he...\n",
      "subrun               | std::vector<int32_t>     | AsJagged(AsDtype('>i4'), he...\n",
      "caf_file_name        | std::vector<std::string> | AsObjects(AsVector(True, As...\n",
      "File indeces:  [2, 5, 7, 8, 9, 11, 16, 18, 19, 21, ..., 33, 35, 37, 39, 41, 42, 43, 45, 46, 47]\n"
     ]
    }
   ],
   "source": [
    "tracks = uproot.open(\"/nashome/z/zaemoore/2x2_CAF/2p2h_truth_sample.root\")\n",
    "tracks[\"TruthTree\"].show()\n",
    "tracks[\"TruthTree\"].keys()\n",
    "\n",
    "branches = tracks[\"TruthTree\"].arrays()[0]\n",
    "file_index = branches['file_index']\n",
    "print(\"File indeces: \", np.unique(file_index))"
   ]
  },
  {
   "cell_type": "markdown",
   "metadata": {},
   "source": [
    "Loop through each file index"
   ]
  },
  {
   "cell_type": "code",
   "execution_count": 5,
   "metadata": {},
   "outputs": [],
   "source": [
    "p_theta = []\n",
    "\n",
    "#Function to find angle between 2 (momentum) vectors\n",
    "#Using dot product\n",
    "#def theta(p1, p2):\n",
    "#    dot_product = p1[0] * p2[0] + p1[1] * p2[1] + p1[2] * p2[2]\n",
    "#    p_theta = np.arccos(dot_product)\n",
    "#    return p_theta\n",
    "\n",
    "#Loop through each file\n",
    "\n",
    "for file_idx in file_index:\n",
    "    \n",
    "    true_energy = branches['true_energy'][file_index == file_idx]\n",
    "    true_p_x = branches['true_p_x'][file_index == file_idx]\n",
    "    true_p_y = branches['true_p_y'][file_index == file_idx]\n",
    "    true_p_z = branches['true_p_z'][file_index == file_idx]\n",
    "    true_p_mag = branches['true_p_mag'][file_index == file_idx]\n",
    "    true_length = branches['true_length'][file_index == file_idx]\n",
    "    true_angle = branches['true_angle'][file_index == file_idx]\n",
    "    true_angle_rot = branches['true_angle_rot'][file_index == file_idx]\n",
    "    true_angle_incl = branches['true_angle_incl'][file_index == file_idx]\n",
    "    true_angle_x = branches['true_angle_x'][file_index == file_idx]\n",
    "    true_angle_y = branches['true_angle_y'][file_index == file_idx]\n",
    "    true_angle_z = branches['true_angle_z'][file_index == file_idx]\n",
    "    true_track_start_x = branches['true_track_start_x'][file_index == file_idx]\n",
    "    true_track_start_y = branches['true_track_start_y'][file_index == file_idx]\n",
    "    true_track_start_z = branches['true_track_start_z'][file_index == file_idx]\n",
    "    true_track_end_x = branches['true_track_end_x'][file_index == file_idx]\n",
    "    true_track_end_y = branches['true_track_end_y'][file_index == file_idx]\n",
    "    true_track_end_z = branches['true_track_end_z'][file_index == file_idx]\n",
    "    true_pdg = branches['true_pdg'][file_index == file_idx]\n",
    "    true_nproton = branches['true_nproton'][file_index == file_idx]\n",
    "    spill_index = branches['spill_index'][file_index == file_idx]\n",
    "    interaction_id = branches['interaction_id'][file_index == file_idx]\n",
    "    event = branches['event'][file_index == file_idx]\n",
    "    run = branches['run'][file_index == file_idx]\n",
    "    subrun = branches['subrun'][file_index == file_idx]\n",
    "    caf_file_name = branches['caf_file_name'][file_index == file_idx]\n",
    "\n",
    "    #Loop through each event in the file\n",
    "    for ev in event:\n",
    "        if all(true_nproton[event == ev]) == 2:\n",
    "            proton = 2\n",
    "\n"
   ]
  },
  {
   "cell_type": "markdown",
   "metadata": {},
   "source": [
    "Plot"
   ]
  }
 ],
 "metadata": {
  "kernelspec": {
   "display_name": "Python 3",
   "language": "python",
   "name": "python3"
  },
  "language_info": {
   "codemirror_mode": {
    "name": "ipython",
    "version": 3
   },
   "file_extension": ".py",
   "mimetype": "text/x-python",
   "name": "python",
   "nbconvert_exporter": "python",
   "pygments_lexer": "ipython3",
   "version": "3.9.18"
  }
 },
 "nbformat": 4,
 "nbformat_minor": 2
}
