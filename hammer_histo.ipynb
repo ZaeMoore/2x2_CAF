{
 "cells": [
  {
   "cell_type": "code",
   "execution_count": 1,
   "metadata": {},
   "outputs": [],
   "source": [
    "import uproot\n",
    "import pandas as pd\n",
    "import numpy as np\n",
    "import awkward as ak\n",
    "import matplotlib\n",
    "from mpl_toolkits.mplot3d import Axes3D\n",
    "import matplotlib.pyplot as plt\n",
    "import os\n",
    "import math\n",
    "import csv\n",
    "import seaborn as sns\n",
    "import sympy as smp\n",
    "import sympy.stats\n",
    "from scipy import stats,signal,ndimage,special,fft\n",
    "from scipy.optimize import curve_fit\n",
    "from scipy.integrate import quad\n",
    "from mpl_toolkits.axes_grid1 import make_axes_locatable"
   ]
  },
  {
   "cell_type": "markdown",
   "metadata": {},
   "source": [
    "Open and read input root file, setup data frame"
   ]
  },
  {
   "cell_type": "code",
   "execution_count": 2,
   "metadata": {},
   "outputs": [
    {
     "name": "stdout",
     "output_type": "stream",
     "text": [
      "name                 | typename                 | interpretation                \n",
      "---------------------+--------------------------+-------------------------------\n",
      "true_energy          | std::vector<double>      | AsJagged(AsDtype('>f8'), he...\n",
      "true_p_x             | std::vector<double>      | AsJagged(AsDtype('>f8'), he...\n",
      "true_p_y             | std::vector<double>      | AsJagged(AsDtype('>f8'), he...\n",
      "true_p_z             | std::vector<double>      | AsJagged(AsDtype('>f8'), he...\n",
      "true_p_mag           | std::vector<double>      | AsJagged(AsDtype('>f8'), he...\n",
      "true_length          | std::vector<double>      | AsJagged(AsDtype('>f8'), he...\n",
      "true_angle           | std::vector<double>      | AsJagged(AsDtype('>f8'), he...\n",
      "true_angle_rot       | std::vector<double>      | AsJagged(AsDtype('>f8'), he...\n",
      "true_angle_incl      | std::vector<double>      | AsJagged(AsDtype('>f8'), he...\n",
      "true_angle_x         | std::vector<double>      | AsJagged(AsDtype('>f8'), he...\n",
      "true_angle_y         | std::vector<double>      | AsJagged(AsDtype('>f8'), he...\n",
      "true_angle_z         | std::vector<double>      | AsJagged(AsDtype('>f8'), he...\n",
      "true_track_start_x   | std::vector<double>      | AsJagged(AsDtype('>f8'), he...\n",
      "true_track_start_y   | std::vector<double>      | AsJagged(AsDtype('>f8'), he...\n",
      "true_track_start_z   | std::vector<double>      | AsJagged(AsDtype('>f8'), he...\n",
      "true_track_end_x     | std::vector<double>      | AsJagged(AsDtype('>f8'), he...\n",
      "true_track_end_y     | std::vector<double>      | AsJagged(AsDtype('>f8'), he...\n",
      "true_track_end_z     | std::vector<double>      | AsJagged(AsDtype('>f8'), he...\n",
      "true_pdg             | std::vector<int32_t>     | AsJagged(AsDtype('>i4'), he...\n",
      "true_nproton         | std::vector<int32_t>     | AsJagged(AsDtype('>i4'), he...\n",
      "spill_index          | std::vector<int32_t>     | AsJagged(AsDtype('>i4'), he...\n",
      "file_index           | std::vector<int32_t>     | AsJagged(AsDtype('>i4'), he...\n",
      "event                | std::vector<int32_t>     | AsJagged(AsDtype('>i4'), he...\n",
      "run                  | std::vector<int32_t>     | AsJagged(AsDtype('>i4'), he...\n",
      "subrun               | std::vector<int32_t>     | AsJagged(AsDtype('>i4'), he...\n",
      "caf_file_name        | std::vector<std::string> | AsObjects(AsVector(True, As...\n"
     ]
    }
   ],
   "source": [
    "tracks = uproot.open(\"/nashome/z/zaemoore/2x2_CAF/2p2h_truth_sample.root\")\n",
    "tracks[\"TruthTree\"].show()\n",
    "tracks[\"TruthTree\"].keys()\n",
    "tracks[\"TruthTree\"][0].num_entries\n",
    "\n",
    "df = tracks[\"TruthTree\"].arrays(library=\"pd\")"
   ]
  },
  {
   "cell_type": "markdown",
   "metadata": {},
   "source": [
    "Loop through each file index"
   ]
  },
  {
   "cell_type": "code",
   "execution_count": 19,
   "metadata": {},
   "outputs": [
    {
     "ename": "IndexError",
     "evalue": "index 23 is out of bounds for axis 0 with size 21",
     "output_type": "error",
     "traceback": [
      "\u001b[0;31m---------------------------------------------------------------------------\u001b[0m",
      "\u001b[0;31mIndexError\u001b[0m                                Traceback (most recent call last)",
      "Cell \u001b[0;32mIn[19], line 27\u001b[0m\n\u001b[1;32m     25\u001b[0m     \u001b[38;5;28;01mfor\u001b[39;00m i \u001b[38;5;129;01min\u001b[39;00m \u001b[38;5;28mrange\u001b[39m(\u001b[38;5;28mlen\u001b[39m(event_nproton)):\n\u001b[1;32m     26\u001b[0m         \u001b[38;5;28;01mif\u001b[39;00m event_nproton[i] \u001b[38;5;241m==\u001b[39m \u001b[38;5;241m2\u001b[39m:\n\u001b[0;32m---> 27\u001b[0m             px \u001b[38;5;241m=\u001b[39m \u001b[43mspill_px\u001b[49m\u001b[43m[\u001b[49m\u001b[43mi\u001b[49m\u001b[43m]\u001b[49m\n\u001b[1;32m     28\u001b[0m         i\u001b[38;5;241m+\u001b[39m\u001b[38;5;241m=\u001b[39m\u001b[38;5;241m1\u001b[39m\n\u001b[1;32m     30\u001b[0m     \u001b[38;5;66;03m#Calculate angle between protons and add to array\u001b[39;00m\n\u001b[1;32m     31\u001b[0m     \u001b[38;5;66;03m#Start with events that only have 2 protons\u001b[39;00m\n\u001b[1;32m     32\u001b[0m \u001b[38;5;66;03m#    if df_true_tracks['true_nproton']==2:\u001b[39;00m\n\u001b[1;32m     33\u001b[0m         \n\u001b[1;32m     34\u001b[0m         \u001b[38;5;66;03m#p_theta.append(1)\u001b[39;00m\n",
      "\u001b[0;31mIndexError\u001b[0m: index 23 is out of bounds for axis 0 with size 21"
     ]
    }
   ],
   "source": [
    "p_theta = []\n",
    "\n",
    "#Function to find angle between 2 (momentum) vectors\n",
    "#Using dot product\n",
    "#def theta(p1, p2):\n",
    "#    dot_product = p1[0] * p2[0] + p1[1] * p2[1] + p1[2] * p2[2]\n",
    "#    p_theta = np.arccos(dot_product)\n",
    "#    return p_theta\n",
    "\n",
    "#Loop through each file\n",
    "file_index = np.unique(df['file_index'])\n",
    "for f_idx in file_index:\n",
    "    df_tracks_file = df[df['file_index']==f_idx]\n",
    "    spill_index = np.unique(df_tracks_file['spill_index'])\n",
    "    #Loop through each spill in the file\n",
    "    for s_idx in spill_index:\n",
    "        df_true_tracks = df_tracks_file[df_tracks_file['spill_index']==s_idx]\n",
    "        spill_nproton = np.array(df_true_tracks['true_nproton'])\n",
    "        spill_px = np.array(df_true_tracks['true_p_x'])\n",
    "        spill_py = np.array(df_true_tracks['true_p_y'])\n",
    "        spill_pz = np.array(df_true_tracks['true_p_z'])\n",
    "\n",
    "        i = 0\n",
    "        event_nproton = spill_nproton[0]\n",
    "        for i in range(len(event_nproton)):\n",
    "            if event_nproton[i] == 2:\n",
    "                #select column i in px, py, pz for protons\n",
    "                spill = 1\n",
    "            i+=1\n",
    "\n",
    "        #Calculate angle between protons and add to array\n",
    "        #Start with events that only have 2 protons\n",
    "    #    if df_true_tracks['true_nproton']==2:\n",
    "            \n",
    "            #p_theta.append(1)\n"
   ]
  },
  {
   "cell_type": "markdown",
   "metadata": {},
   "source": [
    "Plot"
   ]
  },
  {
   "cell_type": "code",
   "execution_count": null,
   "metadata": {},
   "outputs": [],
   "source": [
    "#plt.hist()"
   ]
  }
 ],
 "metadata": {
  "kernelspec": {
   "display_name": "Python 3",
   "language": "python",
   "name": "python3"
  },
  "language_info": {
   "codemirror_mode": {
    "name": "ipython",
    "version": 3
   },
   "file_extension": ".py",
   "mimetype": "text/x-python",
   "name": "python",
   "nbconvert_exporter": "python",
   "pygments_lexer": "ipython3",
   "version": "3.9.18"
  }
 },
 "nbformat": 4,
 "nbformat_minor": 2
}
