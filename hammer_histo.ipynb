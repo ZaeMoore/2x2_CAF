{
 "cells": [
  {
   "cell_type": "code",
   "execution_count": 8,
   "metadata": {},
   "outputs": [],
   "source": [
    "import uproot # type: ignore\n",
    "import pandas as pd # type: ignore\n",
    "import numpy as np # type: ignore\n",
    "import awkward as ak # type: ignore\n",
    "import matplotlib # type: ignore\n",
    "from mpl_toolkits.mplot3d import Axes3D # type: ignore\n",
    "import matplotlib.pyplot as plt # type: ignore\n",
    "import os\n",
    "import math\n",
    "import csv\n",
    "import math\n",
    "import seaborn as sns # type: ignore\n",
    "import sympy as smp # type: ignore\n",
    "import sympy.stats # type: ignore\n",
    "from scipy import stats,signal,ndimage,special,fft # type: ignore\n",
    "from scipy.optimize import curve_fit # type: ignore\n",
    "from scipy.integrate import quad # type: ignore\n",
    "from mpl_toolkits.axes_grid1 import make_axes_locatable # type: ignore"
   ]
  },
  {
   "cell_type": "markdown",
   "metadata": {},
   "source": [
    "Open and read input root file, setup data frame"
   ]
  },
  {
   "cell_type": "code",
   "execution_count": 9,
   "metadata": {},
   "outputs": [
    {
     "name": "stdout",
     "output_type": "stream",
     "text": [
      "name                 | typename                 | interpretation                \n",
      "---------------------+--------------------------+-------------------------------\n",
      "true_energy          | std::vector<double>      | AsJagged(AsDtype('>f8'), he...\n",
      "true_p_x             | std::vector<double>      | AsJagged(AsDtype('>f8'), he...\n",
      "true_p_y             | std::vector<double>      | AsJagged(AsDtype('>f8'), he...\n",
      "true_p_z             | std::vector<double>      | AsJagged(AsDtype('>f8'), he...\n",
      "true_p_mag           | std::vector<double>      | AsJagged(AsDtype('>f8'), he...\n",
      "true_length          | std::vector<double>      | AsJagged(AsDtype('>f8'), he...\n",
      "true_angle           | std::vector<double>      | AsJagged(AsDtype('>f8'), he...\n",
      "true_angle_rot       | std::vector<double>      | AsJagged(AsDtype('>f8'), he...\n",
      "true_angle_incl      | std::vector<double>      | AsJagged(AsDtype('>f8'), he...\n",
      "true_angle_x         | std::vector<double>      | AsJagged(AsDtype('>f8'), he...\n",
      "true_angle_y         | std::vector<double>      | AsJagged(AsDtype('>f8'), he...\n",
      "true_angle_z         | std::vector<double>      | AsJagged(AsDtype('>f8'), he...\n",
      "true_track_start_x   | std::vector<double>      | AsJagged(AsDtype('>f8'), he...\n",
      "true_track_start_y   | std::vector<double>      | AsJagged(AsDtype('>f8'), he...\n",
      "true_track_start_z   | std::vector<double>      | AsJagged(AsDtype('>f8'), he...\n",
      "true_track_end_x     | std::vector<double>      | AsJagged(AsDtype('>f8'), he...\n",
      "true_track_end_y     | std::vector<double>      | AsJagged(AsDtype('>f8'), he...\n",
      "true_track_end_z     | std::vector<double>      | AsJagged(AsDtype('>f8'), he...\n",
      "true_pdg             | std::vector<int32_t>     | AsJagged(AsDtype('>i4'), he...\n",
      "true_ixn_charged_... | std::vector<int32_t>     | AsJagged(AsDtype('>i4'), he...\n",
      "true_nproton         | std::vector<int32_t>     | AsJagged(AsDtype('>i4'), he...\n",
      "true_nmuon           | std::vector<int32_t>     | AsJagged(AsDtype('>i4'), he...\n",
      "spill_index          | std::vector<int32_t>     | AsJagged(AsDtype('>i4'), he...\n",
      "file_index           | std::vector<int32_t>     | AsJagged(AsDtype('>i4'), he...\n",
      "interaction_id       | std::vector<int32_t>     | AsJagged(AsDtype('>i4'), he...\n",
      "event                | std::vector<int32_t>     | AsJagged(AsDtype('>i4'), he...\n",
      "run                  | std::vector<int32_t>     | AsJagged(AsDtype('>i4'), he...\n",
      "subrun               | std::vector<int32_t>     | AsJagged(AsDtype('>i4'), he...\n",
      "caf_file_name        | std::vector<std::string> | AsObjects(AsVector(True, As...\n",
      "File indeces:  [11, 23, 31, 35, 48, 49, 66, 77, ..., 825, 843, 846, 863, 864, 874, 880, 881]\n"
     ]
    }
   ],
   "source": [
    "tracks = uproot.open(\"/nashome/z/zaemoore/2x2_CAF/2p2h_truth.root\")\n",
    "tracks[\"TruthTree\"].show()\n",
    "tracks[\"TruthTree\"].keys()\n",
    "\n",
    "branches = tracks[\"TruthTree\"].arrays()[0]\n",
    "file_index = branches['file_index']\n",
    "print(\"File indeces: \", np.unique(file_index))"
   ]
  },
  {
   "cell_type": "markdown",
   "metadata": {},
   "source": [
    "Loop through each file index"
   ]
  },
  {
   "cell_type": "code",
   "execution_count": 10,
   "metadata": {},
   "outputs": [
    {
     "name": "stderr",
     "output_type": "stream",
     "text": [
      "/tmp/ipykernel_2735870/4197561661.py:9: DeprecationWarning: Calling np.sum(generator) is deprecated, and in the future will give a different result. Use np.sum(np.fromiter(generator)) or the python sum builtin instead.\n",
      "  return np.sqrt(np.sum(i ** 2 for i in x))\n"
     ]
    }
   ],
   "source": [
    "p_theta = []\n",
    "candidate_files = []\n",
    "p2 = []\n",
    "hammer = 0\n",
    "totalevents = 0\n",
    "#Function to find angle between 2 (momentum) vectors\n",
    "#Using dot product\n",
    "def mag(x):\n",
    "    return np.sqrt(np.sum(i ** 2 for i in x))\n",
    "\n",
    "def theta(track1, track2):\n",
    "    cos = np.dot(track1, track2) / (mag(track1) * mag(track2))\n",
    "    cos = np.clip(cos, -1, 1)\n",
    "    #p_theta = np.arccos(cos)\n",
    "    return cos\n",
    "\n",
    "#Loop through each file\n",
    "\n",
    "for file_idx in np.unique(file_index):\n",
    "    \n",
    "    true_energy = branches['true_energy'][file_index == file_idx]\n",
    "    true_p_x = branches['true_p_x'][file_index == file_idx]\n",
    "    true_p_y = branches['true_p_y'][file_index == file_idx]\n",
    "    true_p_z = branches['true_p_z'][file_index == file_idx]\n",
    "    true_p_mag = branches['true_p_mag'][file_index == file_idx]\n",
    "    true_length = branches['true_length'][file_index == file_idx]\n",
    "    true_angle = branches['true_angle'][file_index == file_idx]\n",
    "    true_angle_rot = branches['true_angle_rot'][file_index == file_idx]\n",
    "    true_angle_incl = branches['true_angle_incl'][file_index == file_idx]\n",
    "    true_angle_x = branches['true_angle_x'][file_index == file_idx]\n",
    "    true_angle_y = branches['true_angle_y'][file_index == file_idx]\n",
    "    true_angle_z = branches['true_angle_z'][file_index == file_idx]\n",
    "    true_track_start_x = branches['true_track_start_x'][file_index == file_idx]\n",
    "    true_track_start_y = branches['true_track_start_y'][file_index == file_idx]\n",
    "    true_track_start_z = branches['true_track_start_z'][file_index == file_idx]\n",
    "    true_track_end_x = branches['true_track_end_x'][file_index == file_idx]\n",
    "    true_track_end_y = branches['true_track_end_y'][file_index == file_idx]\n",
    "    true_track_end_z = branches['true_track_end_z'][file_index == file_idx]\n",
    "    true_pdg = branches['true_pdg'][file_index == file_idx]\n",
    "    true_nproton = branches['true_nproton'][file_index == file_idx]\n",
    "    spill_index = branches['spill_index'][file_index == file_idx]\n",
    "    event = branches['event'][file_index == file_idx]\n",
    "    run = branches['run'][file_index == file_idx]\n",
    "    subrun = branches['subrun'][file_index == file_idx]\n",
    "    caf_file_name = branches['caf_file_name'][file_index == file_idx]\n",
    "\n",
    "    #Loop through each event in the file\n",
    "    for ev in np.unique(event):\n",
    "        totalevents += 1\n",
    "        true_nproton_ev = true_nproton[event == ev]\n",
    "        true_pdg_ev = true_pdg[event == ev]\n",
    "        true_start_x_ev = true_track_start_x[event == ev]\n",
    "        true_start_y_ev = true_track_start_y[event == ev]\n",
    "        true_start_z_ev = true_track_start_z[event == ev]\n",
    "        true_end_x_ev = true_track_end_x[event == ev]\n",
    "        true_end_y_ev = true_track_end_y[event == ev]\n",
    "        true_end_z_ev = true_track_end_z[event == ev]\n",
    "        true_p_mag_ev = true_p_mag[event == ev]\n",
    "\n",
    "        x_track = []\n",
    "        y_track = []\n",
    "        z_track = []\n",
    "        p_mag = []\n",
    "\n",
    "        #Loop through each particle\n",
    "        for i in range(len(true_start_z_ev)):\n",
    "            if true_pdg_ev[i] == 2212:\n",
    "                x_track.append(true_end_x_ev[i] - true_start_x_ev[i])\n",
    "                y_track.append(true_end_y_ev[i] - true_start_y_ev[i])\n",
    "                z_track.append(true_end_z_ev[i] - true_start_z_ev[i])\n",
    "                p_mag.append(true_p_mag_ev[i])\n",
    "        \n",
    "        #Compare angles for every combination of protons in events with >=2 protons\n",
    "        #Double check this process with len of 2,3,4,5\n",
    "        for i in range(len(z_track) - 1):\n",
    "            for j in range(i+1, len(z_track)):\n",
    "                track1 = [x_track[i], y_track[i], z_track[i]]\n",
    "                track2 = [x_track[j], y_track[j], z_track[j]]\n",
    "                angle = theta(track1, track2)\n",
    "                if angle <= -0.95:\n",
    "                    candidate_files.append(file_idx)\n",
    "                p2.append(min(p_mag[i], p_mag[j]))\n",
    "                p_theta.append(angle)\n"
   ]
  },
  {
   "cell_type": "code",
   "execution_count": 11,
   "metadata": {},
   "outputs": [
    {
     "name": "stdout",
     "output_type": "stream",
     "text": [
      "Files with candidate events:  [ 31  31  35 132 558 646 646 813]\n"
     ]
    },
    {
     "data": {
      "image/png": "[encoded data removed]",
      "text/plain": [
       "<Figure size 1000x600 with 1 Axes>"
      ]
     },
     "metadata": {},
     "output_type": "display_data"
    }
   ],
   "source": [
    "#candidates = len(np.unique(np.array(candidate_files)))\n",
    "candidates = 0\n",
    "for value in p_theta:\n",
    "    if value < -0.95:\n",
    "        candidates += 1\n",
    "print(\"Files with candidate events: \", (np.array(candidate_files)))\n",
    "fig = plt.figure(figsize=(10,6))\n",
    "n, bins, edges = plt.hist(p_theta, bins=np.arange(-1.0, 1.0, 0.025))\n",
    "plt.xticks(np.arange(-1.0, 1.0, 0.1))\n",
    "plt.xlabel(\"Cos(theta_pp)\")\n",
    "plt.ylabel(\"Events\")\n",
    "plt.title(\"Angle between protons in 2p2h events (Lab Frame)\\nTotal 2p2h Events: {}\\nTotal Hammer Events: {}\".format(totalevents, candidates))\n",
    "plt.show()"
   ]
  },
  {
   "cell_type": "markdown",
   "metadata": {},
   "source": [
    "Cosine of the angle between the two protons vs. the momentum of the least energetic proton in the pair (events with 2 protons only)"
   ]
  },
  {
   "cell_type": "code",
   "execution_count": null,
   "metadata": {},
   "outputs": [],
   "source": [
    "fig = plt.figure(figsize=(10,6))\n",
    "plt.scatter(p2,p_theta)\n",
    "plt.show()"
   ]
  }
 ],
 "metadata": {
  "kernelspec": {
   "display_name": "Python 3",
   "language": "python",
   "name": "python3"
  },
  "language_info": {
   "codemirror_mode": {
    "name": "ipython",
    "version": 3
   },
   "file_extension": ".py",
   "mimetype": "text/x-python",
   "name": "python",
   "nbconvert_exporter": "python",
   "pygments_lexer": "ipython3",
   "version": "3.9.18"
  }
 },
 "nbformat": 4,
 "nbformat_minor": 2
}
