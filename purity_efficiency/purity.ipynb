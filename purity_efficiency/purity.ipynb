{
 "cells": [
  {
   "cell_type": "code",
   "execution_count": 1,
   "metadata": {},
   "outputs": [],
   "source": [
    "import uproot\n",
    "import pandas as pd\n",
    "import numpy as np\n",
    "import awkward as ak\n",
    "import matplotlib\n",
    "from mpl_toolkits.mplot3d import Axes3D\n",
    "import matplotlib.pyplot as plt\n",
    "import os\n",
    "import math\n",
    "import csv\n",
    "import math\n",
    "import seaborn as sns\n",
    "import sympy as smp\n",
    "import sympy.stats\n",
    "from scipy import stats,signal,ndimage,special,fft\n",
    "from scipy.optimize import curve_fit\n",
    "from scipy.integrate import quad\n",
    "from mpl_toolkits.axes_grid1 import make_axes_locatable\n",
    "import matplotlib.patches as mpatches"
   ]
  },
  {
   "cell_type": "code",
   "execution_count": 2,
   "metadata": {},
   "outputs": [
    {
     "name": "stdout",
     "output_type": "stream",
     "text": [
      "name                 | typename                 | interpretation                \n",
      "---------------------+--------------------------+-------------------------------\n",
      "reco_energy          | std::vector<double>      | AsJagged(AsDtype('>f8'), he...\n",
      "reco_p_x             | std::vector<double>      | AsJagged(AsDtype('>f8'), he...\n",
      "reco_p_y             | std::vector<double>      | AsJagged(AsDtype('>f8'), he...\n",
      "reco_p_z             | std::vector<double>      | AsJagged(AsDtype('>f8'), he...\n",
      "reco_p_mag           | std::vector<double>      | AsJagged(AsDtype('>f8'), he...\n",
      "reco_length          | std::vector<double>      | AsJagged(AsDtype('>f8'), he...\n",
      "reco_angle           | std::vector<double>      | AsJagged(AsDtype('>f8'), he...\n",
      "reco_angle_rot       | std::vector<double>      | AsJagged(AsDtype('>f8'), he...\n",
      "reco_angle_incl      | std::vector<double>      | AsJagged(AsDtype('>f8'), he...\n",
      "reco_angle_x         | std::vector<double>      | AsJagged(AsDtype('>f8'), he...\n",
      "reco_angle_y         | std::vector<double>      | AsJagged(AsDtype('>f8'), he...\n",
      "reco_angle_z         | std::vector<double>      | AsJagged(AsDtype('>f8'), he...\n",
      "reco_track_start_x   | std::vector<double>      | AsJagged(AsDtype('>f8'), he...\n",
      "reco_track_start_y   | std::vector<double>      | AsJagged(AsDtype('>f8'), he...\n",
      "reco_track_start_z   | std::vector<double>      | AsJagged(AsDtype('>f8'), he...\n",
      "reco_track_end_x     | std::vector<double>      | AsJagged(AsDtype('>f8'), he...\n",
      "reco_track_end_y     | std::vector<double>      | AsJagged(AsDtype('>f8'), he...\n",
      "reco_track_end_z     | std::vector<double>      | AsJagged(AsDtype('>f8'), he...\n",
      "reco_pdg             | std::vector<int32_t>     | AsJagged(AsDtype('>i4'), he...\n",
      "reco_ixn_index       | std::vector<double>      | AsJagged(AsDtype('>f8'), he...\n",
      "true_energy          | std::vector<double>      | AsJagged(AsDtype('>f8'), he...\n",
      "true_p_x             | std::vector<double>      | AsJagged(AsDtype('>f8'), he...\n",
      "true_p_y             | std::vector<double>      | AsJagged(AsDtype('>f8'), he...\n",
      "true_p_z             | std::vector<double>      | AsJagged(AsDtype('>f8'), he...\n",
      "true_p_mag           | std::vector<double>      | AsJagged(AsDtype('>f8'), he...\n",
      "true_length          | std::vector<double>      | AsJagged(AsDtype('>f8'), he...\n",
      "true_angle           | std::vector<double>      | AsJagged(AsDtype('>f8'), he...\n",
      "true_angle_rot       | std::vector<double>      | AsJagged(AsDtype('>f8'), he...\n",
      "true_angle_incl      | std::vector<double>      | AsJagged(AsDtype('>f8'), he...\n",
      "true_angle_x         | std::vector<double>      | AsJagged(AsDtype('>f8'), he...\n",
      "true_angle_y         | std::vector<double>      | AsJagged(AsDtype('>f8'), he...\n",
      "true_angle_z         | std::vector<double>      | AsJagged(AsDtype('>f8'), he...\n",
      "true_track_start_x   | std::vector<double>      | AsJagged(AsDtype('>f8'), he...\n",
      "true_track_start_y   | std::vector<double>      | AsJagged(AsDtype('>f8'), he...\n",
      "true_track_start_z   | std::vector<double>      | AsJagged(AsDtype('>f8'), he...\n",
      "true_track_end_x     | std::vector<double>      | AsJagged(AsDtype('>f8'), he...\n",
      "true_track_end_y     | std::vector<double>      | AsJagged(AsDtype('>f8'), he...\n",
      "true_track_end_z     | std::vector<double>      | AsJagged(AsDtype('>f8'), he...\n",
      "true_pdg             | std::vector<int32_t>     | AsJagged(AsDtype('>i4'), he...\n",
      "true_nproton         | std::vector<int32_t>     | AsJagged(AsDtype('>i4'), he...\n",
      "true_nmuon           | std::vector<int32_t>     | AsJagged(AsDtype('>i4'), he...\n",
      "interaction_id       | std::vector<int32_t>     | AsJagged(AsDtype('>i4'), he...\n",
      "true_ixn_index       | std::vector<double>      | AsJagged(AsDtype('>f8'), he...\n",
      "overlap              | std::vector<double>      | AsJagged(AsDtype('>f8'), he...\n",
      "spill_index          | std::vector<int32_t>     | AsJagged(AsDtype('>i4'), he...\n",
      "file_index           | std::vector<int32_t>     | AsJagged(AsDtype('>i4'), he...\n",
      "event                | std::vector<int32_t>     | AsJagged(AsDtype('>i4'), he...\n",
      "run                  | std::vector<int32_t>     | AsJagged(AsDtype('>i4'), he...\n",
      "subrun               | std::vector<int32_t>     | AsJagged(AsDtype('>i4'), he...\n",
      "caf_file_name        | std::vector<std::string> | AsObjects(AsVector(True, As...\n",
      "[2, 4, 11, 14, 15, 18, 19, 20, 21, ..., 868, 870, 874, 879, 880, 881, 883, 885]\n"
     ]
    }
   ],
   "source": [
    "tracks = uproot.open(\"/nashome/z/zaemoore/2x2_CAF/purity_efficiency/2p2h_purity_output_1.1.root\")\n",
    "tracks[\"RecoTree\"].show()\n",
    "tracks[\"RecoTree\"].keys()\n",
    "\n",
    "branches = tracks[\"RecoTree\"].arrays()[0]\n",
    "file_index = branches['file_index']\n",
    "print(np.unique(file_index))"
   ]
  },
  {
   "cell_type": "markdown",
   "metadata": {},
   "source": [
    "Calculate Purity"
   ]
  },
  {
   "cell_type": "code",
   "execution_count": null,
   "metadata": {},
   "outputs": [],
   "source": [
    "#Loop through each file index\n",
    "for file_idx in np.unique(file_index):\n",
    "    reco_energy = branches['reco_energy'][file_index == file_idx]"
   ]
  }
 ],
 "metadata": {
  "kernelspec": {
   "display_name": "Python 3",
   "language": "python",
   "name": "python3"
  },
  "language_info": {
   "codemirror_mode": {
    "name": "ipython",
    "version": 3
   },
   "file_extension": ".py",
   "mimetype": "text/x-python",
   "name": "python",
   "nbconvert_exporter": "python",
   "pygments_lexer": "ipython3",
   "version": "3.9.21"
  }
 },
 "nbformat": 4,
 "nbformat_minor": 2
}
