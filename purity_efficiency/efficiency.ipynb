{
 "cells": [
  {
   "cell_type": "code",
   "execution_count": 1,
   "metadata": {},
   "outputs": [],
   "source": [
    "import uproot\n",
    "import pandas as pd\n",
    "import numpy as np\n",
    "import awkward as ak\n",
    "import matplotlib\n",
    "from mpl_toolkits.mplot3d import Axes3D\n",
    "import matplotlib.pyplot as plt\n",
    "import os\n",
    "import math\n",
    "import csv\n",
    "import math\n",
    "import seaborn as sns\n",
    "import sympy as smp\n",
    "import sympy.stats\n",
    "from scipy import stats,signal,ndimage,special,fft\n",
    "from scipy.optimize import curve_fit\n",
    "from scipy.integrate import quad\n",
    "from mpl_toolkits.axes_grid1 import make_axes_locatable\n",
    "import matplotlib.patches as mpatches"
   ]
  },
  {
   "cell_type": "code",
   "execution_count": 2,
   "metadata": {},
   "outputs": [
    {
     "name": "stdout",
     "output_type": "stream",
     "text": [
      "name                 | typename                 | interpretation                \n",
      "---------------------+--------------------------+-------------------------------\n",
      "reco_energy          | std::vector<double>      | AsJagged(AsDtype('>f8'), he...\n",
      "reco_p_x             | std::vector<double>      | AsJagged(AsDtype('>f8'), he...\n",
      "reco_p_y             | std::vector<double>      | AsJagged(AsDtype('>f8'), he...\n",
      "reco_p_z             | std::vector<double>      | AsJagged(AsDtype('>f8'), he...\n",
      "reco_p_mag           | std::vector<double>      | AsJagged(AsDtype('>f8'), he...\n",
      "reco_length          | std::vector<double>      | AsJagged(AsDtype('>f8'), he...\n",
      "reco_angle           | std::vector<double>      | AsJagged(AsDtype('>f8'), he...\n",
      "reco_angle_rot       | std::vector<double>      | AsJagged(AsDtype('>f8'), he...\n",
      "reco_angle_incl      | std::vector<double>      | AsJagged(AsDtype('>f8'), he...\n",
      "reco_angle_x         | std::vector<double>      | AsJagged(AsDtype('>f8'), he...\n",
      "reco_angle_y         | std::vector<double>      | AsJagged(AsDtype('>f8'), he...\n",
      "reco_angle_z         | std::vector<double>      | AsJagged(AsDtype('>f8'), he...\n",
      "reco_track_start_x   | std::vector<double>      | AsJagged(AsDtype('>f8'), he...\n",
      "reco_track_start_y   | std::vector<double>      | AsJagged(AsDtype('>f8'), he...\n",
      "reco_track_start_z   | std::vector<double>      | AsJagged(AsDtype('>f8'), he...\n",
      "reco_track_end_x     | std::vector<double>      | AsJagged(AsDtype('>f8'), he...\n",
      "reco_track_end_y     | std::vector<double>      | AsJagged(AsDtype('>f8'), he...\n",
      "reco_track_end_z     | std::vector<double>      | AsJagged(AsDtype('>f8'), he...\n",
      "reco_pdg             | std::vector<int32_t>     | AsJagged(AsDtype('>i4'), he...\n",
      "reco_ixn_index       | std::vector<double>      | AsJagged(AsDtype('>f8'), he...\n",
      "true_energy          | std::vector<double>      | AsJagged(AsDtype('>f8'), he...\n",
      "true_p_x             | std::vector<double>      | AsJagged(AsDtype('>f8'), he...\n",
      "true_p_y             | std::vector<double>      | AsJagged(AsDtype('>f8'), he...\n",
      "true_p_z             | std::vector<double>      | AsJagged(AsDtype('>f8'), he...\n",
      "true_p_mag           | std::vector<double>      | AsJagged(AsDtype('>f8'), he...\n",
      "true_length          | std::vector<double>      | AsJagged(AsDtype('>f8'), he...\n",
      "true_angle           | std::vector<double>      | AsJagged(AsDtype('>f8'), he...\n",
      "true_angle_rot       | std::vector<double>      | AsJagged(AsDtype('>f8'), he...\n",
      "true_angle_incl      | std::vector<double>      | AsJagged(AsDtype('>f8'), he...\n",
      "true_angle_x         | std::vector<double>      | AsJagged(AsDtype('>f8'), he...\n",
      "true_angle_y         | std::vector<double>      | AsJagged(AsDtype('>f8'), he...\n",
      "true_angle_z         | std::vector<double>      | AsJagged(AsDtype('>f8'), he...\n",
      "true_track_start_x   | std::vector<double>      | AsJagged(AsDtype('>f8'), he...\n",
      "true_track_start_y   | std::vector<double>      | AsJagged(AsDtype('>f8'), he...\n",
      "true_track_start_z   | std::vector<double>      | AsJagged(AsDtype('>f8'), he...\n",
      "true_track_end_x     | std::vector<double>      | AsJagged(AsDtype('>f8'), he...\n",
      "true_track_end_y     | std::vector<double>      | AsJagged(AsDtype('>f8'), he...\n",
      "true_track_end_z     | std::vector<double>      | AsJagged(AsDtype('>f8'), he...\n",
      "true_pdg             | std::vector<int32_t>     | AsJagged(AsDtype('>i4'), he...\n",
      "true_nproton         | std::vector<int32_t>     | AsJagged(AsDtype('>i4'), he...\n",
      "true_nmuon           | std::vector<int32_t>     | AsJagged(AsDtype('>i4'), he...\n",
      "interaction_id       | std::vector<int32_t>     | AsJagged(AsDtype('>i4'), he...\n",
      "true_ixn_index       | std::vector<double>      | AsJagged(AsDtype('>f8'), he...\n",
      "overlap              | std::vector<double>      | AsJagged(AsDtype('>f8'), he...\n",
      "spill_index          | std::vector<int32_t>     | AsJagged(AsDtype('>i4'), he...\n",
      "file_index           | std::vector<int32_t>     | AsJagged(AsDtype('>i4'), he...\n",
      "event                | std::vector<int32_t>     | AsJagged(AsDtype('>i4'), he...\n",
      "run                  | std::vector<int32_t>     | AsJagged(AsDtype('>i4'), he...\n",
      "subrun               | std::vector<int32_t>     | AsJagged(AsDtype('>i4'), he...\n",
      "caf_file_name        | std::vector<std::string> | AsObjects(AsVector(True, As...\n",
      "[49, 67, 77, 90, 114, 127, 138, 151, ..., 792, 817, 840, 843, 863, 865, 881]\n"
     ]
    }
   ],
   "source": [
    "tracks = uproot.open(\"/nashome/z/zaemoore/2x2_CAF/purity_efficiency/2p2h_efficiency_output_1.1.root\")\n",
    "tracks[\"CafTree\"].show()\n",
    "tracks[\"CafTree\"].keys()\n",
    "\n",
    "branches = tracks[\"CafTree\"].arrays()[0]\n",
    "file_index = branches['file_index']\n",
    "print(np.unique(file_index))"
   ]
  },
  {
   "cell_type": "code",
   "execution_count": 3,
   "metadata": {},
   "outputs": [],
   "source": [
    "num_true_total_events = 0\n",
    "num_true_pass_events = 0"
   ]
  },
  {
   "cell_type": "markdown",
   "metadata": {},
   "source": [
    "Calculate Efficiency <br>\n",
    "Efficiency = Number of true signal events that pass all cuts/Number of true signal events"
   ]
  },
  {
   "cell_type": "code",
   "execution_count": 4,
   "metadata": {},
   "outputs": [],
   "source": [
    "#Loop through each file index\n",
    "for file_idx in np.unique(file_index):\n",
    "    true_energy = branches['true_energy'][file_index == file_idx]\n",
    "    true_p_x = branches['true_p_x'][file_index == file_idx]\n",
    "    true_p_y = branches['true_p_y'][file_index == file_idx]\n",
    "    true_p_z = branches['true_p_z'][file_index == file_idx]\n",
    "    true_p_mag = branches['true_p_mag'][file_index == file_idx]\n",
    "    true_length = branches['true_length'][file_index == file_idx]\n",
    "    true_angle = branches['true_angle'][file_index == file_idx]\n",
    "    true_angle_rot = branches['true_angle_rot'][file_index == file_idx]\n",
    "    true_angle_incl = branches['true_angle_incl'][file_index == file_idx]\n",
    "    true_angle_x = branches['true_angle_x'][file_index == file_idx]\n",
    "    true_angle_y = branches['true_angle_y'][file_index == file_idx]\n",
    "    true_angle_z = branches['true_angle_z'][file_index == file_idx]\n",
    "    true_track_start_x = branches['true_track_start_x'][file_index == file_idx]\n",
    "    true_track_start_y = branches['true_track_start_y'][file_index == file_idx]\n",
    "    true_track_start_z = branches['true_track_start_z'][file_index == file_idx]\n",
    "    true_track_end_x = branches['true_track_end_x'][file_index == file_idx]\n",
    "    true_track_end_y = branches['true_track_end_y'][file_index == file_idx]\n",
    "    true_track_end_z = branches['true_track_end_z'][file_index == file_idx]\n",
    "    true_pdg = branches['true_pdg'][file_index == file_idx]\n",
    "    true_nproton = branches['true_nproton'][file_index == file_idx]\n",
    "\n",
    "    reco_energy = branches['reco_energy'][file_index == file_idx]\n",
    "    reco_p_x = branches['reco_p_x'][file_index == file_idx]\n",
    "    reco_p_y = branches['reco_p_y'][file_index == file_idx]\n",
    "    reco_p_z = branches['reco_p_z'][file_index == file_idx]\n",
    "    reco_p_mag = branches['reco_p_mag'][file_index == file_idx]\n",
    "    reco_length = branches['reco_length'][file_index == file_idx]\n",
    "    reco_angle = branches['reco_angle'][file_index == file_idx]\n",
    "    reco_angle_rot = branches['reco_angle_rot'][file_index == file_idx]\n",
    "    reco_angle_incl = branches['reco_angle_incl'][file_index == file_idx]\n",
    "    reco_angle_x = branches['reco_angle_x'][file_index == file_idx]\n",
    "    reco_angle_y = branches['reco_angle_y'][file_index == file_idx]\n",
    "    reco_angly_z = branches['reco_angle_z'][file_index == file_idx]\n",
    "    reco_track_start_x = branches['reco_track_start_x'][file_index == file_idx]\n",
    "    reco_track_start_y = branches['reco_track_start_y'][file_index == file_idx]\n",
    "    reco_track_start_z = branches['reco_track_start_z'][file_index == file_idx]\n",
    "    reco_track_end_x = branches['reco_track_end_x'][file_index == file_idx]\n",
    "    reco_track_end_y = branches['reco_track_end_y'][file_index == file_idx]\n",
    "    reco_track_end_z = branches['reco_track_end_z'][file_index == file_idx]\n",
    "    reco_pdg = branches['reco_pdg'][file_index == file_idx]\n",
    "    reco_ixn_index = branches['reco_ixn_index'][file_index == file_idx]\n",
    "    spill_index = branches['spill_index'][file_index == file_idx]\n",
    "    event = branches['event'][file_index == file_idx]\n",
    "    subrun = branches['subrun'][file_index == file_idx]\n",
    "    caf_file_name = branches['caf_file_name'][file_index == file_idx]\n",
    "\n",
    "    #Loop through each event in the file\n",
    "    for ev in np.unique(event):\n",
    "        nprotons_reco = 0\n",
    "        nmuons_reco = 0\n",
    "        npions_reco = 0\n",
    "\n",
    "        num_true_total_events += 1\n",
    "\n",
    "        #Check if event passes reco cuts\n",
    "        reco_pdg_ev = reco_pdg[event == ev]\n",
    "\n",
    "        #Loop through particles\n",
    "        for i in range(len(reco_pdg_ev)):\n",
    "            if reco_pdg_ev[i] == 2212:\n",
    "                nprotons_reco+=1\n",
    "            if reco_pdg_ev[i] == 13:\n",
    "                nmuons_reco+=1\n",
    "            if reco_pdg_ev[i] == 111 or reco_pdg_ev[i] == 211 or reco_pdg_ev[i] == -211:\n",
    "                npions_reco+=1\n",
    "        \n",
    "        if nprotons_reco == 2 and nmuons_reco == 1 and npions_reco == 0:\n",
    "            num_true_pass_events += 1\n"
   ]
  },
  {
   "cell_type": "code",
   "execution_count": 5,
   "metadata": {},
   "outputs": [
    {
     "name": "stdout",
     "output_type": "stream",
     "text": [
      "Efficiency measurement:  0.4090909090909091\n"
     ]
    }
   ],
   "source": [
    "efficiency = num_true_pass_events/num_true_total_events\n",
    "print(\"Efficiency measurement: \", efficiency)"
   ]
  }
 ],
 "metadata": {
  "kernelspec": {
   "display_name": "Python 3",
   "language": "python",
   "name": "python3"
  },
  "language_info": {
   "codemirror_mode": {
    "name": "ipython",
    "version": 3
   },
   "file_extension": ".py",
   "mimetype": "text/x-python",
   "name": "python",
   "nbconvert_exporter": "python",
   "pygments_lexer": "ipython3",
   "version": "3.9.18"
  }
 },
 "nbformat": 4,
 "nbformat_minor": 2
}
